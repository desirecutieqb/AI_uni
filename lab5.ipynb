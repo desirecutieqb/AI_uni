{
  "nbformat": 4,
  "nbformat_minor": 0,
  "metadata": {
    "colab": {
      "provenance": [],
      "authorship_tag": "ABX9TyMKNR5Vc6qZWmGyCbcHozG+",
      "include_colab_link": true
    },
    "kernelspec": {
      "name": "python3",
      "display_name": "Python 3"
    },
    "language_info": {
      "name": "python"
    }
  },
  "cells": [
    {
      "cell_type": "markdown",
      "metadata": {
        "id": "view-in-github",
        "colab_type": "text"
      },
      "source": [
        "<a href=\"https://colab.research.google.com/github/desirecutieqb/AI_uni/blob/main/lab5.ipynb\" target=\"_parent\"><img src=\"https://colab.research.google.com/assets/colab-badge.svg\" alt=\"Open In Colab\"/></a>"
      ]
    },
    {
      "cell_type": "code",
      "execution_count": 5,
      "metadata": {
        "id": "YreH9pz7j6Iv"
      },
      "outputs": [],
      "source": [
        "import os\n",
        "import requests\n",
        "from dotenv import load_dotenv\n",
        "from bs4 import BeautifulSoup\n",
        "from IPython.display import Markdown, display\n",
        "import ollama"
      ]
    },
    {
      "cell_type": "code",
      "source": [
        "message = \"Tell me something about transformer technology\"\n",
        "response = ollama.chat(model='llama3.2', messages=[{\"role\":\"user\", \"content\":message}])\n",
        "print(response['message']['content'])"
      ],
      "metadata": {
        "id": "Jeslrnt9kNR9"
      },
      "execution_count": null,
      "outputs": []
    },
    {
      "cell_type": "code",
      "source": [
        "headers = {\n",
        "\"User-Agent\": \"Mozilla/5.0 (Windows NT 10.0; Win64; x64) AppleWebKit/537.36 (KHTML, like Gecko) Chrome/117.0.0.0 Safari/537.36\"\n",
        "}\n",
        "class Website:\n",
        "    def __init__(self, url):\n",
        "        self.url = url\n",
        "        response = requests.get(url, headers=headers)\n",
        "        soup = BeautifulSoup(response.content, 'html.parser')\n",
        "        self.title = soup.title.string if soup.title else \"No title found\"\n",
        "        for irrelevant in soup.body([\"script\", \"style\", \"img\", \"input\", \"link\", \"ul\", \"11\", \"a\"]):\n",
        "            irrelevant.decompose()\n",
        "        self.text = soup.body.get_text (separator=\"\\n\", strip=True)"
      ],
      "metadata": {
        "id": "upjEkRb7kYSH"
      },
      "execution_count": null,
      "outputs": []
    },
    {
      "cell_type": "code",
      "source": [
        "web = Website(\"https://pl.wikipedia.org/wiki/Du%C5%BCy_model_j%C4%99zykowy\")\n",
        "print(\"Title: \", web.title)\n",
        "print(\"text: \", web.text)"
      ],
      "metadata": {
        "id": "FUeCYsl6kZIB"
      },
      "execution_count": null,
      "outputs": []
    },
    {
      "cell_type": "code",
      "source": [
        "system_prompt = \"You are an assistant that analyzes the contents of a website \\\n",
        "and provides a short summary, ignoring text that might be navigation related.\\\n",
        "Respond in markdown.\""
      ],
      "metadata": {
        "id": "23vmc-Vjkb6s"
      },
      "execution_count": null,
      "outputs": []
    },
    {
      "cell_type": "code",
      "source": [
        "def user_prompt_for(website):\n",
        "    user_prompt = \"You are looking at a website titled (website.title)\"\n",
        "    user_prompt += \"\\nThe contents of this website is as follows; \\\n",
        "please provide a short summary of this website in markdown. \\\n",
        "If it includes news or announcements, then summarize these too.\\n\\n\"\n",
        "    user_prompt += website.text\n",
        "    return user_prompt"
      ],
      "metadata": {
        "id": "9P0hhMPIkfvX"
      },
      "execution_count": null,
      "outputs": []
    },
    {
      "cell_type": "code",
      "source": [
        "def messages_for(website):\n",
        "    return [\n",
        "        {\"role\": \"system\", \"content\": system_prompt},\n",
        "        {\"role\": \"user\", \"content\": user_prompt_for(website)}\n",
        "    ]"
      ],
      "metadata": {
        "id": "hdy0a9kHkiVG"
      },
      "execution_count": null,
      "outputs": []
    },
    {
      "cell_type": "code",
      "source": [
        "MODEL='llama3.2'\n",
        "def summarize(url):\n",
        "    website = Website(url)\n",
        "    response = ollama.chat(\n",
        "        model=MODEL,\n",
        "        messages=messages_for(website)\n",
        "    )\n",
        "    return response['message']['content']\n",
        "summarize(\"https://wp.pl\")"
      ],
      "metadata": {
        "id": "FV0f6wK3kkJz"
      },
      "execution_count": null,
      "outputs": []
    },
    {
      "cell_type": "code",
      "source": [
        "def display_summary(url):\n",
        "    summary = summarize(url)\n",
        "    display(Markdown (summary))\n",
        "\n",
        "display_summary(\"https://wp.pl\")"
      ],
      "metadata": {
        "id": "1uyxGapCkmLt"
      },
      "execution_count": null,
      "outputs": []
    }
  ]
}